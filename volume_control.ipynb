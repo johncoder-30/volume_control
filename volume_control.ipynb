{
 "cells": [
  {
   "cell_type": "code",
   "execution_count": 2,
   "metadata": {},
   "outputs": [],
   "source": [
    "import cv2\n",
    "import numpy as np\n",
    "import mediapipe as mp\n",
    "import matplotlib.pyplot as plt\n",
    "from pycaw.pycaw import AudioUtilities,IAudioEndpointVolume\n",
    "from comtypes import CLSCTX_ALL\n",
    "from ctypes import cast,POINTER"
   ]
  },
  {
   "cell_type": "code",
   "execution_count": 3,
   "metadata": {},
   "outputs": [],
   "source": [
    "# First step is to initialize the Hands class an store it in a variable\n",
    "mp_hands = mp.solutions.hands\n",
    "\n",
    "# Now second step is to set the hands function which will hold the landmarks points\n",
    "hands = mp_hands.Hands(static_image_mode=False, max_num_hands=2, min_detection_confidence=0.3)\n",
    "\n",
    "# Last step is to set up the drawing function of hands landmarks on the image\n",
    "mp_drawing = mp.solutions.drawing_utils"
   ]
  },
  {
   "cell_type": "code",
   "execution_count": 4,
   "metadata": {},
   "outputs": [
    {
     "name": "stdout",
     "output_type": "stream",
     "text": [
      "<POINTER(IMMDevice) ptr=0x1e210063100 at 1e211e99c40> \n",
      " <POINTER(IUnknown) ptr=0x1e20fc129a0 at 1e211e99bc0> \n",
      " <POINTER(IAudioEndpointVolume) ptr=0x1e20fc129a0 at 1e211e99cc0> \n",
      " -65.25 \t 0.0\n"
     ]
    }
   ],
   "source": [
    "devices = AudioUtilities.GetSpeakers()\n",
    "interface = devices.Activate(IAudioEndpointVolume._iid_, CLSCTX_ALL, None)\n",
    "volume = cast(interface, POINTER(IAudioEndpointVolume))\n",
    "volMin, volMax = volume.GetVolumeRange()[:2]\n",
    "print(devices,'\\n',interface,'\\n',volume,'\\n',volMin,'\\t',volMax)"
   ]
  },
  {
   "cell_type": "code",
   "execution_count": 5,
   "metadata": {},
   "outputs": [],
   "source": [
    "def distance(x1,y1,x2,y2):\n",
    "    return (((x2-x1)**2+(y2-y1)**2)**(0.5))"
   ]
  },
  {
   "cell_type": "code",
   "execution_count": null,
   "metadata": {},
   "outputs": [],
   "source": [
    "capture = cv2.VideoCapture(0)\n",
    "istrue, frame = capture.read()\n",
    "image_height,image_width,_=frame.shape\n",
    "print(image_height,image_width)\n",
    "while True:\n",
    "    istrue, frame = capture.read()\n",
    "    results = hands.process(cv2.cvtColor(frame, cv2.COLOR_BGR2RGB))\n",
    "\n",
    "    if results.multi_hand_landmarks:\n",
    "        for hand_no, hand_landmarks in enumerate(results.multi_hand_landmarks):\n",
    "            # mp_drawing.draw_landmarks(image=frame, landmark_list=hand_landmarks,\n",
    "            #                           connections=mp_hands.HAND_CONNECTIONS)\n",
    "            thumb_x=int(hand_landmarks.landmark[mp_hands.HandLandmark(4).value].x * image_width)\n",
    "            thumb_y=int(hand_landmarks.landmark[mp_hands.HandLandmark(4).value].y * image_height)\n",
    "            index_x=int(hand_landmarks.landmark[mp_hands.HandLandmark(8).value].x * image_width)\n",
    "            index_y=int(hand_landmarks.landmark[mp_hands.HandLandmark(8).value].y * image_height)\n",
    "            # index_z=hand_landmarks.landmark[mp_hands.HandLandmark(8).value].z\n",
    "\n",
    "            cv2.line(frame,(thumb_x,thumb_y),(index_x,index_y),(255,0,0),10)\n",
    "            cv2.circle(frame,(thumb_x,thumb_y), 15,(0, 255, 0),-1,8)\n",
    "            cv2.circle(frame,(index_x,index_y), 15,(0, 255, 0),-1,8)\n",
    "            dist=distance(thumb_x,thumb_y,index_x,index_y)\n",
    "            cv2.putText(frame,str(dist),(index_x,index_y),cv2.FONT_HERSHEY_SIMPLEX,1,(155,155,0),5)\n",
    "            # cv2.putText(frame,str(index_z),(50,50),cv2.FONT_HERSHEY_SIMPLEX,1,(155,0,0),5)\n",
    "            vol = np.interp(dist, [20, 220], [volMin, volMax])\n",
    "            volume.SetMasterVolumeLevel(vol, None)\n",
    "            # print(vol, dist)\n",
    "        # print(f'z: {hand_landmarks.landmark[mp_hands.HandLandmark(i).value].z * image_width}\\n')\n",
    "    cv2.imshow('hand_landmark',frame)\n",
    "    if cv2.waitKey(1) & 0xFF==ord('q'):\n",
    "        break\n",
    "capture.release()\n",
    "cv2.destroyAllWindows()"
   ]
  }
 ],
 "metadata": {
  "kernelspec": {
   "display_name": "Python 3.9.12 ('pytorch_gpu')",
   "language": "python",
   "name": "python3"
  },
  "language_info": {
   "codemirror_mode": {
    "name": "ipython",
    "version": 3
   },
   "file_extension": ".py",
   "mimetype": "text/x-python",
   "name": "python",
   "nbconvert_exporter": "python",
   "pygments_lexer": "ipython3",
   "version": "3.9.12"
  },
  "orig_nbformat": 4,
  "vscode": {
   "interpreter": {
    "hash": "7b57cbe78fda32f2c984a83a6d519289554683c0446b0b76f1107a21b9bb4ebe"
   }
  }
 },
 "nbformat": 4,
 "nbformat_minor": 2
}
